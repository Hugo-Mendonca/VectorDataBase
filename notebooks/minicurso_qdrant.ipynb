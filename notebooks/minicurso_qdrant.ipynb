{
 "cells": [
  {
   "cell_type": "markdown",
   "id": "8f14da26",
   "metadata": {},
   "source": [
    "# Minicurso Prático: Vector Database com Qdrant\n",
    "\n",
    "Neste notebook, vamos aprender na prática como interagir com um banco de dados vetorial, o **Qdrant**. Cobriremos o ciclo completo de operações, desde a criação de uma \"coleção\" até a execução de buscas semânticas inteligentes.\n",
    "\n",
    "**O que vamos fazer:**\n",
    "1.  **Conectar** ao nosso banco de dados Qdrant rodando no Docker.\n",
    "2.  **Preparar um modelo de IA** para transformar texto em vetores (embeddings).\n",
    "3.  **Criar uma coleção** para armazenar nossos vetores.\n",
    "4.  **Inserir dados** (documentos de texto sobre IA, culinária e história).\n",
    "5.  **Realizar buscas** que entendem o significado, não apenas palavras-chave.\n",
    "6.  **Filtrar resultados** combinando busca semântica e metadados.\n",
    "7.  **Gerenciar os dados** com operações de deleção e contagem."
   ]
  },
  {
   "cell_type": "markdown",
   "id": "61c2fd6c",
   "metadata": {},
   "source": [
    "## Passo 1: Importando as Bibliotecas e Conectando ao Banco\n",
    "\n",
    "Vamos importar as bibliotecas necessárias para o nosso trabalho e estabelecer a conexão com a instância do Qdrant que está rodando no Docker.\n",
    "\n",
    "- `qdrant_client`: Lib para \"conversar\" com o Qdrant.\n",
    "- `sentence_transformers`: Lib que contém o modelo de IA para gerar os vetores."
   ]
  },
  {
   "cell_type": "code",
   "execution_count": null,
   "id": "63e4f3ef",
   "metadata": {},
   "outputs": [],
   "source": [
    "# Importações\n",
    "from qdrant_client import QdrantClient, models\n",
    "from sentence_transformers import SentenceTransformer\n",
    "import numpy as np #importante para manipulação de vetores\n",
    "\n",
    "# --- Conexão com o Cliente Qdrant ---\n",
    "# Se o Qdrant está rodando via `docker-compose up`, ele estará acessível neste endereço.\n",
    "try:\n",
    "    client = QdrantClient(host=\"localhost\", port=6333)\n",
    "    print(\"Conexão com o Qdrant estabelecida com sucesso!\")\n",
    "    print(\"Versão do Qdrant:\", client.get_collections()) # teste para verificar se a conexão está funcionando\n",
    "except Exception as e:\n",
    "    print(f\"Falha ao conectar com o Qdrant. Verifique se o contêiner Docker está rodando.\")\n",
    "    print(f\"Erro: {e}\")"
   ]
  },
  {
   "cell_type": "markdown",
   "id": "40b647fb",
   "metadata": {},
   "source": [
    "## Passo 2: Preparando o Modelo de IA e a Coleção\n",
    "\n",
    "Agora que estamos conectados, precisamos de duas coisas antes de inserir dados:\n",
    "\n",
    "1.  **Um modelo de IA:** Ele será nossa \"ferramenta\" para transformar textos (que o banco não entende) em vetores numéricos (que o banco entende). Usaremos um modelo pré-treinado da biblioteca `Sentence Transformers`.\n",
    "2.  **Uma \"coleção\" no Qdrant:** É o espaço, similar a uma tabela, onde nossos vetores e metadados serão armazenados.\n",
    "\n",
    "Vamos carregar o modelo e definir as configurações da nossa coleção."
   ]
  },
  {
   "cell_type": "code",
   "execution_count": null,
   "id": "cd7ac9c6",
   "metadata": {},
   "outputs": [],
   "source": [
    "# Carrega o modelo pré-treinado 'all-MiniLM-L6-v2' da biblioteca SentenceTransformer.\n",
    "# Este modelo é leve e eficiente, ótimo para demonstrações. Ele é o responsável\n",
    "# por converter nossas frases em vetores.\n",
    "model = SentenceTransformer('all-MiniLM-L6-v2')\n",
    "\n",
    "# Precisamos saber o tamanho (a dimensionalidade) dos vetores que o modelo gera.\n",
    "# Para este modelo, o tamanho é 384.\n",
    "vector_size = model.get_sentence_embedding_dimension()\n",
    "\n",
    "# Por fim, definimos o nome da nossa coleção.\n",
    "collection_name = \"documentos_ia\"\n",
    "\n",
    "print(f\"Modelo '{model.__class__.__name__}' carregado.\")\n",
    "print(f\"Tamanho do vetor (dimensionalidade): {vector_size}\")\n",
    "print(f\"Nome da coleção que será criada: '{collection_name}'\")"
   ]
  },
  {
   "cell_type": "markdown",
   "id": "7390f502",
   "metadata": {},
   "source": [
    "Com as configurações prontas, vamos efetivamente criar a **coleção** no Qdrant.\n",
    "\n",
    "O código abaixo primeiro tenta deletar a coleção se ela já existir. Isso serve para que possamos rodar o notebook várias vezes desde o início sem receber um erro de \"coleção já existe\"."
   ]
  },
  {
   "cell_type": "code",
   "execution_count": null,
   "id": "5a9de2e4",
   "metadata": {},
   "outputs": [],
   "source": [
    "#`try/except` para deletar a coleção se ela já existir\n",
    "try:\n",
    "    client.delete_collection(collection_name=collection_name)\n",
    "    print(f\"Coleção '{collection_name}' antiga encontrada e deletada para garantir um início limpo.\")\n",
    "except Exception as e:\n",
    "    print(f\"Coleção '{collection_name}' não existia previamente. Tudo certo para continuar.\")\n",
    "\n",
    "# Cria a nova coleção com a configuração de vetores que definimos\n",
    "client.create_collection(\n",
    "    collection_name=collection_name, #documentos_ia\n",
    "    vectors_config=models.VectorParams(\n",
    "        size=vector_size,      # o tamanho do vetor (384)\n",
    "        distance=models.Distance.COSINE  # a métrica de similaridade de cosseno\n",
    "    ),\n",
    ")\n",
    "\n",
    "print(f\"Coleção '{collection_name}' criada com sucesso no Qdrant!\")"
   ]
  },
  {
   "cell_type": "markdown",
   "id": "43b3fe0e",
   "metadata": {},
   "source": [
    "## Passo 3: Inserindo Dados na Coleção\n",
    "\n",
    "Com a nossa coleção vazia criada, vamos agora para etapa de 'escrita' no banco de dados. Vamos pegar uma lista de frases simples, com temas variados, e prepará-las para serem inseridas.\n",
    "\n",
    "Cada 'item' que inserimos no Qdrant é chamado de **ponto** (Point). Um `ponto` é a estrutura fundamental e é composto por 3 partes principais:\n",
    "- `id`: Um identificador único para o ponto (como uma chave primária).\n",
    "- `vector`: O vetor numérico gerado pelo nosso modelo de IA. É a representação matemática do dado.\n",
    "- `payload`: Um dicionário com dados extras que queremos associar ao vetor (metadados), como o texto original, categorias, datas, etc."
   ]
  },
  {
   "cell_type": "code",
   "execution_count": null,
   "id": "c8e225f8",
   "metadata": {},
   "outputs": [],
   "source": [
    "# Primeiro, definimos a nossa lista de documentos em um formato de dicionário Python.\n",
    "# Cada dicionário contém o texto a ser vetorizado e uma categoria como metadado.\n",
    "documents = [\n",
    "    # Tecnologia\n",
    "    {\"text\": \"A inteligência artificial está revolucionando a medicina com diagnósticos mais precisos.\", \"category\": \"tecnologia\"},\n",
    "    {\"text\": \"Grandes modelos de linguagem (LLMs) são a base de muitos chatbots e assistentes virtuais.\", \"category\": \"tecnologia\"},\n",
    "    {\"text\": \"O aprendizado de máquina é um subcampo da IA focado em algoritmos que aprendem com dados.\", \"category\": \"tecnologia\"},\n",
    "    {\"text\": \"A computação em nuvem permite o armazenamento e processamento de dados em larga escala.\", \"category\": \"tecnologia\"},\n",
    "    {\"text\": \"Cibersegurança é a prática de proteger sistemas e redes contra ataques digitais.\", \"category\": \"tecnologia\"},\n",
    "\n",
    "    # Culinária\n",
    "    {\"text\": \"A culinária italiana é famosa por suas massas frescas e pizzas de forno a lenha.\", \"category\": \"culinaria\"},\n",
    "    {\"text\": \"O sushi é um prato tradicional japonês feito de arroz temperado, peixe cru e algas.\", \"category\": \"culinaria\"},\n",
    "    {\"text\": \"A moqueca capixaba é um cozido de peixe e frutos do mar típico do Espírito Santo, Brasil.\", \"category\": \"culinaria\"},\n",
    "    {\"text\": \"Os croissants franceses são conhecidos por sua massa folhada crocante e amanteigada.\", \"category\": \"culinaria\"},\n",
    "    {\"text\": \"Cozinhar sous-vide é uma técnica que utiliza um banho de água a temperatura controlada.\", \"category\": \"culinaria\"},\n",
    "\n",
    "    # História\n",
    "    {\"text\": \"O Império Romano foi uma das civilizações mais influentes da história ocidental.\", \"category\": \"historia\"},\n",
    "    {\"text\": \"A Segunda Guerra Mundial foi um conflito global que durou de 1939 a 1945.\", \"category\": \"historia\"},\n",
    "    {\"text\": \"Cleópatra foi a última faraó do Antigo Egito, conhecida por sua inteligência e alianças políticas.\", \"category\": \"historia\"},\n",
    "    {\"text\": \"A Proclamação da República no Brasil ocorreu em 15 de novembro de 1889.\", \"category\": \"historia\"},\n",
    "    {\"text\": \"As pirâmides de Gizé serviram como tumbas para os faraós Quéops, Quéfren e Miquerinos.\", \"category\": \"historia\"},\n",
    "\n",
    "    # Ciência\n",
    "    {\"text\": \"A teoria da relatividade de Albert Einstein mudou nossa compreensão sobre espaço e tempo.\", \"category\": \"ciencia\"},\n",
    "    {\"text\": \"O telescópio espacial James Webb consegue observar galáxias formadas logo após o Big Bang.\", \"category\": \"ciencia\"},\n",
    "    {\"text\": \"A molécula de DNA contém as instruções genéticas para o desenvolvimento dos seres vivos.\", \"category\": \"ciencia\"},\n",
    "    {\"text\": \"A fotossíntese é o processo pelo qual as plantas convertem luz solar em energia química.\", \"category\": \"ciencia\"},\n",
    "    {\"text\": \"Buracos negros são regiões do espaço com um campo gravitacional extremamente forte.\", \"category\": \"ciencia\"},\n",
    "]\n",
    "\n",
    "print(f\"Temos {len(documents)} documentos de exemplo para inserir.\")"
   ]
  },
  {
   "cell_type": "markdown",
   "id": "0ffac909",
   "metadata": {},
   "source": [
    "Agora, vamos iterar (fazer um loop) sobre cada documento da lista acima. Para cada um, faremos duas coisas:\n",
    "\n",
    "1.  **Gerar o Embedding:** Usar nosso modelo (`model`) para transformar o texto em um vetor de 384 dimensões.\n",
    "2.  **Criar o Ponto:** Montar a estrutura do `PointStruct` do Qdrant com o ID, o vetor gerado e o payload (nossos metadados)."
   ]
  },
  {
   "cell_type": "code",
   "execution_count": null,
   "id": "be15121d",
   "metadata": {},
   "outputs": [],
   "source": [
    "# Inicializamos uma lista vazia para guardar nossos pontos\n",
    "points = []\n",
    "\n",
    "# Loop para percorrer os documentos e transformá-los em pontos\n",
    "for idx, doc in enumerate(documents):\n",
    "    # Gerar o embedding: pega o texto e o transforma em um vetor numérico.\n",
    "    embedding = model.encode(doc[\"text\"]).tolist()\n",
    "    \n",
    "    # Cria a estrutura do ponto com ID, vetor e metadados (payload).\n",
    "    points.append(\n",
    "        models.PointStruct(\n",
    "            id=idx,  # Usamos o índice do loop como um ID único\n",
    "            vector=embedding,\n",
    "            payload={\n",
    "                \"original_text\": doc[\"text\"],\n",
    "                \"category\": doc[\"category\"]\n",
    "            }\n",
    "        )\n",
    "    )\n",
    "\n",
    "# Ao final do loop, a lista 'points' conterá todos os nossos dados prontos para serem enviados.\n",
    "print(f\"Estrutura de dados para {len(points)} pontos foi criada com sucesso.\")\n",
    "print(\"\\nExemplo do primeiro ponto a ser inserido:\")\n",
    "print(points[0])"
   ]
  },
  {
   "cell_type": "markdown",
   "id": "dbd35402",
   "metadata": {},
   "source": [
    "Com nossa lista de pontos pronta, usamos um único comando, `upsert`, para enviar todos eles para o Qdrant de uma vez. O comando `upsert` é bom porque ele insere novos pontos ou atualiza os que já existem (caso o ID já esteja no banco)."
   ]
  },
  {
   "cell_type": "code",
   "execution_count": null,
   "id": "bff7a0df",
   "metadata": {},
   "outputs": [],
   "source": [
    "# Envia a lista de pontos para a nossa coleção no Qdrant.\n",
    "operation_info = client.upsert(\n",
    "    collection_name=collection_name,\n",
    "    wait=True,  # Pede para a operação esperar a conclusão antes de continuar\n",
    "    points=points,\n",
    ")\n",
    "\n",
    "print(\"Dados inseridos no Qdrant!\")\n",
    "print(\"\\nInformação da operação retornada pelo servidor:\")\n",
    "print(operation_info)"
   ]
  },
  {
   "cell_type": "markdown",
   "id": "a395a267",
   "metadata": {},
   "source": [
    "## Passo 4: Realizando Buscas Semânticas (CRUD - Read)\n",
    "\n",
    "Com nossos dados no banco, é hora de consultá-los. Diferente de uma busca tradicional em SQL com `WHERE abc FROM xyz`, uma busca vetorial encontra os resultados mais \"próximos\" em significado.\n",
    "\n",
    "O processo é simples:\n",
    "1.  Definimos uma frase de busca (nossa \"pergunta\").\n",
    "2.  Usamos o **mesmo modelo de IA** para converter essa frase em um vetor.\n",
    "3.  Enviamos esse vetor para o Qdrant.\n",
    "4.  O Qdrant calcula a \"distância\" (usando a métrica de cosseno que definimos) entre o nosso vetor de busca e todos os vetores da coleção e nos retorna os mais próximos, ou seja, os mais similares."
   ]
  },
  {
   "cell_type": "markdown",
   "id": "41e6034b",
   "metadata": {},
   "source": [
    "### 4.1. Exemplo 1: Busca Semântica Pura\n",
    "\n",
    "Vamos começar com uma busca sobre **\"modelos de IA para conversação\"**. A palavra \"chatbot\", por exemplo, não está na nossa frase de busca, mas está em um dos documentos que inserimos."
   ]
  },
  {
   "cell_type": "code",
   "execution_count": null,
   "id": "1dc618bc",
   "metadata": {},
   "outputs": [],
   "source": [
    "# 1. Definimos a nossa busca\n",
    "query_text_1 = \"modelos de IA para conversação\"\n",
    "\n",
    "# 2. Convertemos a busca em um vetor\n",
    "query_embedding_1 = model.encode(query_text_1).tolist()\n",
    "\n",
    "# 3. Executamos a busca no Qdrant\n",
    "search_result_1 = client.search(\n",
    "    collection_name=collection_name,\n",
    "    query_vector=query_embedding_1,\n",
    "    limit=3,  # pedimos os 3 resultados mais próximos\n",
    "    with_payload=True  # dizemos para incluir os metadados\n",
    ")\n",
    "\n",
    "# 4. Exibimos os resultados de forma legível\n",
    "print(f\"--- Resultados da busca por: '{query_text_1}' ---\")\n",
    "for hit in search_result_1:\n",
    "    print(f\"\\nID do Ponto: {hit.id}\")\n",
    "    print(f\"Similaridade (Score): {hit.score:.4f}\")\n",
    "    print(f\"  Texto Original: {hit.payload['original_text']}\")\n",
    "    print(f\"  Categoria: {hit.payload['category']}\")"
   ]
  },
  {
   "cell_type": "markdown",
   "id": "19254e31",
   "metadata": {},
   "source": [
    "### 4.2. Exemplo 2: Combinando Busca Semântica com Filtros\n",
    "\n",
    "Esta é uma das funcionalidades mais úteis dos bancos de dados vetoriais modernos. E se quisermos encontrar textos sobre um assunto, mas apenas dentro de uma **categoria específica**?\n",
    "\n",
    "Vamos buscar por **\"comida boa\"**, mas restringindo a busca **apenas** para os documentos da categoria `culinaria`. Isso evita que o resultado traga, por exemplo, um texto sobre a \"boa\" estratégia de um imperador romano."
   ]
  },
  {
   "cell_type": "code",
   "execution_count": null,
   "id": "78a99cd5",
   "metadata": {},
   "outputs": [],
   "source": [
    "# 1. Definimos a nova busca\n",
    "query_text_2 = \"comida boa\"\n",
    "\n",
    "# 2. Convertemos em um vetor\n",
    "query_embedding_2 = model.encode(query_text_2).tolist()\n",
    "\n",
    "# 3. Executamos a busca, mas desta vez adicionando um filtro\n",
    "search_result_2 = client.search(\n",
    "    collection_name=collection_name,\n",
    "    query_vector=query_embedding_2,\n",
    "    # AQUI ESTÁ O FILTRO: definimos uma condição obrigatória (must)\n",
    "    # onde o campo 'category' no payload deve ter o valor 'culinaria'.\n",
    "    query_filter=models.Filter(\n",
    "        must=[\n",
    "            models.FieldCondition(\n",
    "                key=\"category\",\n",
    "                match=models.MatchValue(value=\"culinaria\")\n",
    "            )\n",
    "        ]\n",
    "    ),\n",
    "    limit=2, # Pedimos os 2 melhores resultados dentro do filtro\n",
    "    with_payload=True\n",
    ")\n",
    "\n",
    "# 4. Exibimos os resultados\n",
    "print(f\"--- Resultados da busca por: '{query_text_2}' (filtrado por Categoria: culinaria) ---\")\n",
    "for hit in search_result_2:\n",
    "    print(f\"\\nID do Ponto: {hit.id}\")\n",
    "    print(f\"Similaridade (Score): {hit.score:.4f}\")\n",
    "    print(f\"  Texto Original: {hit.payload['original_text']}\")\n",
    "    print(f\"  Categoria: {hit.payload['category']}\")"
   ]
  },
  {
   "cell_type": "markdown",
   "id": "466e1364",
   "metadata": {},
   "source": [
    "## Passo 5: Gerenciando os Dados (Retrieve, Delete e Count)\n",
    "\n",
    "Além de buscar por similaridade, que é a função principal, podemos também realizar operações diretas nos dados. Por exemplo:\n",
    "- Buscar um item que já conhecemos pelo seu ID.\n",
    "- Remover dados que não são mais necessários ou estão desatualizados.\n",
    "- Verificar quantos itens temos no total."
   ]
  },
  {
   "cell_type": "markdown",
   "id": "82db8038",
   "metadata": {},
   "source": [
    "### 5.1. Buscando um Ponto Específico por ID (`retrieve`)\n",
    "\n",
    "Imagine que você já sabe o ID de um documento e quer apenas os dados dele, sem fazer uma busca por similaridade. Para isso, usamos o comando `retrieve`, que é extremamente rápido."
   ]
  },
  {
   "cell_type": "code",
   "execution_count": null,
   "id": "e13fa31c",
   "metadata": {},
   "outputs": [],
   "source": [
    "# Vamos buscar o ponto que tem o ID 2\n",
    "point_id_to_retrieve = 2\n",
    "\n",
    "retrieved_points = client.retrieve(\n",
    "    collection_name=collection_name,\n",
    "    ids=[point_id_to_retrieve],\n",
    "    with_payload=True # incluir os metadados\n",
    ")\n",
    "\n",
    "print(\"Resultado:\")\n",
    "print(retrieved_points)"
   ]
  },
  {
   "cell_type": "markdown",
   "id": "db335aa5",
   "metadata": {},
   "source": [
    "### 5.2. Deletando Pontos da Coleção (`delete`)\n",
    "\n",
    "Agora, vamos simular a remoção de alguns dados. A operação `delete` permite remover um ou mais pontos de forma eficiente, bastando fornecer seus IDs. Vamos deletar os pontos com ID 3 e 4 (os de culinária)."
   ]
  },
  {
   "cell_type": "code",
   "execution_count": null,
   "id": "ef228e0b",
   "metadata": {},
   "outputs": [],
   "source": [
    "# Deleta os pontos com IDs 3 e 4 da nossa coleção.\n",
    "operation_info_delete = client.delete(\n",
    "    collection_name=collection_name,\n",
    "    points_selector=models.PointIdsList(points=[3, 4])\n",
    ")\n",
    "\n",
    "print(\"--- Deletando os pontos com ID 3 e 4 ---\")\n",
    "print(\"Operação de deleção concluída!\")\n",
    "print(operation_info_delete)"
   ]
  },
  {
   "cell_type": "markdown",
   "id": "b905cf1f",
   "metadata": {},
   "source": [
    "### 5.3. Verificando o Estado Final da Coleção (`count`)\n",
    "\n",
    "Depois de deletarmpodemos confirmar que a operação funcionou usando o comando `count` para ver quantos pontos restaram na coleção. Começamos com 20, deletamos 2, então o resultado deve ser 18."
   ]
  },
  {
   "cell_type": "code",
   "execution_count": null,
   "id": "8747eacd",
   "metadata": {},
   "outputs": [],
   "source": [
    "# Conta o número de pontos restantes na coleção\n",
    "count_result = client.count(\n",
    "    collection_name=collection_name,\n",
    "    exact=True # Pede uma contagem exata\n",
    ")\n",
    "\n",
    "print(\"--- Contando o total de pontos restantes ---\")\n",
    "print(f\"Total de pontos na coleção '{collection_name}': {count_result.count}\")"
   ]
  },
  {
   "cell_type": "markdown",
   "id": "a4ceebff",
   "metadata": {},
   "source": [
    "## Conclusão\n",
    "\n",
    "Completamos o ciclo de vida de interação com um banco de dados vetorial. Agora sabemos como:\n",
    "- **Configurar e conectar** a um banco de dados vetorial.\n",
    "- **Criar uma coleção** para armazenar vetores.\n",
    "- **Inserir dados** usando embeddings.\n",
    "- **Realizar buscas** semânticas e com filtros.\n",
    "- **Gerenciar os dados** com operações de busca por ID, deleção e contagem.\n",
    "\n",
    "### Caso de Uso Final\n",
    "\n",
    "Criamos uma aplicação web interativa simples com Streamlit (`src/app.py`). Vamos focar em usar a operação de `search` para criar uma experiência de busca.\n",
    "\n",
    "Teste no terminal: **streamlit run src/app.py**"
   ]
  }
 ],
 "metadata": {
  "kernelspec": {
   "display_name": "venv (3.13.4)",
   "language": "python",
   "name": "python3"
  },
  "language_info": {
   "codemirror_mode": {
    "name": "ipython",
    "version": 3
   },
   "file_extension": ".py",
   "mimetype": "text/x-python",
   "name": "python",
   "nbconvert_exporter": "python",
   "pygments_lexer": "ipython3",
   "version": "3.13.4"
  }
 },
 "nbformat": 4,
 "nbformat_minor": 5
}
